{
  "nbformat": 4,
  "nbformat_minor": 0,
  "metadata": {
    "colab": {
      "name": "CohortAnalysis.ipynb",
      "provenance": [],
      "collapsed_sections": []
    },
    "kernelspec": {
      "name": "python3",
      "display_name": "Python 3"
    }
  },
  "cells": [
    {
      "cell_type": "code",
      "metadata": {
        "id": "B77Uy-zYIGWa",
        "colab_type": "code",
        "outputId": "b516b055-911f-4e93-a09c-e279c7f6ca7b",
        "colab": {
          "base_uri": "https://localhost:8080/",
          "height": 221
        }
      },
      "source": [
        "import numpy as np\n",
        "import pandas as pd\n",
        "import matplotlib.pyplot as plt\n",
        "import warnings\n",
        "import seaborn as sns\n",
        "from operator import attrgetter\n",
        "import matplotlib.colors as mcolors\n",
        "\n",
        "\n",
        "!wget https://archive.ics.uci.edu/ml/machine-learning-databases/00352/Online%20Retail.xlsx"
      ],
      "execution_count": 0,
      "outputs": [
        {
          "output_type": "stream",
          "text": [
            "--2020-03-18 14:31:38--  https://archive.ics.uci.edu/ml/machine-learning-databases/00352/Online%20Retail.xlsx\n",
            "Resolving archive.ics.uci.edu (archive.ics.uci.edu)... 128.195.10.252\n",
            "Connecting to archive.ics.uci.edu (archive.ics.uci.edu)|128.195.10.252|:443... connected.\n",
            "HTTP request sent, awaiting response... 200 OK\n",
            "Length: 23715344 (23M) [application/x-httpd-php]\n",
            "Saving to: ‘Online Retail.xlsx’\n",
            "\n",
            "\rOnline Retail.xlsx    0%[                    ]       0  --.-KB/s               \rOnline Retail.xlsx    0%[                    ] 194.00K   759KB/s               \rOnline Retail.xlsx   12%[=>                  ]   2.80M  6.14MB/s               \rOnline Retail.xlsx   47%[========>           ]  10.82M  16.5MB/s               \rOnline Retail.xlsx   87%[================>   ]  19.75M  23.1MB/s               \rOnline Retail.xlsx  100%[===================>]  22.62M  24.6MB/s    in 0.9s    \n",
            "\n",
            "2020-03-18 14:31:39 (24.6 MB/s) - ‘Online Retail.xlsx’ saved [23715344/23715344]\n",
            "\n"
          ],
          "name": "stdout"
        }
      ]
    },
    {
      "cell_type": "code",
      "metadata": {
        "id": "pMMsgIwLJg3w",
        "colab_type": "code",
        "outputId": "fbfa5599-e7bf-4a51-b1ad-82ae2c23f52a",
        "colab": {
          "base_uri": "https://localhost:8080/",
          "height": 517
        }
      },
      "source": [
        "df = pd.read_excel(\n",
        "                      'Online Retail.xlsx',\n",
        "                      dtype = \n",
        "                            {\n",
        "                              'CustomerID': str,\n",
        "                              'InvoiceID': str\n",
        "                            },\n",
        "                      parse_dates = ['InvoiceDate'], \n",
        "                      infer_datetime_format = True\n",
        "                   )\n",
        "\n",
        "df.head()\n"
      ],
      "execution_count": 0,
      "outputs": [
        {
          "output_type": "execute_result",
          "data": {
            "text/html": [
              "<div>\n",
              "<style scoped>\n",
              "    .dataframe tbody tr th:only-of-type {\n",
              "        vertical-align: middle;\n",
              "    }\n",
              "\n",
              "    .dataframe tbody tr th {\n",
              "        vertical-align: top;\n",
              "    }\n",
              "\n",
              "    .dataframe thead th {\n",
              "        text-align: right;\n",
              "    }\n",
              "</style>\n",
              "<table border=\"1\" class=\"dataframe\">\n",
              "  <thead>\n",
              "    <tr style=\"text-align: right;\">\n",
              "      <th></th>\n",
              "      <th>InvoiceNo</th>\n",
              "      <th>StockCode</th>\n",
              "      <th>Description</th>\n",
              "      <th>Quantity</th>\n",
              "      <th>InvoiceDate</th>\n",
              "      <th>UnitPrice</th>\n",
              "      <th>CustomerID</th>\n",
              "      <th>Country</th>\n",
              "    </tr>\n",
              "  </thead>\n",
              "  <tbody>\n",
              "    <tr>\n",
              "      <th>0</th>\n",
              "      <td>536365</td>\n",
              "      <td>85123A</td>\n",
              "      <td>WHITE HANGING HEART T-LIGHT HOLDER</td>\n",
              "      <td>6</td>\n",
              "      <td>2010-12-01 08:26:00</td>\n",
              "      <td>2.55</td>\n",
              "      <td>17850</td>\n",
              "      <td>United Kingdom</td>\n",
              "    </tr>\n",
              "    <tr>\n",
              "      <th>1</th>\n",
              "      <td>536365</td>\n",
              "      <td>71053</td>\n",
              "      <td>WHITE METAL LANTERN</td>\n",
              "      <td>6</td>\n",
              "      <td>2010-12-01 08:26:00</td>\n",
              "      <td>3.39</td>\n",
              "      <td>17850</td>\n",
              "      <td>United Kingdom</td>\n",
              "    </tr>\n",
              "    <tr>\n",
              "      <th>2</th>\n",
              "      <td>536365</td>\n",
              "      <td>84406B</td>\n",
              "      <td>CREAM CUPID HEARTS COAT HANGER</td>\n",
              "      <td>8</td>\n",
              "      <td>2010-12-01 08:26:00</td>\n",
              "      <td>2.75</td>\n",
              "      <td>17850</td>\n",
              "      <td>United Kingdom</td>\n",
              "    </tr>\n",
              "    <tr>\n",
              "      <th>3</th>\n",
              "      <td>536365</td>\n",
              "      <td>84029G</td>\n",
              "      <td>KNITTED UNION FLAG HOT WATER BOTTLE</td>\n",
              "      <td>6</td>\n",
              "      <td>2010-12-01 08:26:00</td>\n",
              "      <td>3.39</td>\n",
              "      <td>17850</td>\n",
              "      <td>United Kingdom</td>\n",
              "    </tr>\n",
              "    <tr>\n",
              "      <th>4</th>\n",
              "      <td>536365</td>\n",
              "      <td>84029E</td>\n",
              "      <td>RED WOOLLY HOTTIE WHITE HEART.</td>\n",
              "      <td>6</td>\n",
              "      <td>2010-12-01 08:26:00</td>\n",
              "      <td>3.39</td>\n",
              "      <td>17850</td>\n",
              "      <td>United Kingdom</td>\n",
              "    </tr>\n",
              "  </tbody>\n",
              "</table>\n",
              "</div>"
            ],
            "text/plain": [
              "  InvoiceNo StockCode  ... CustomerID         Country\n",
              "0    536365    85123A  ...      17850  United Kingdom\n",
              "1    536365     71053  ...      17850  United Kingdom\n",
              "2    536365    84406B  ...      17850  United Kingdom\n",
              "3    536365    84029G  ...      17850  United Kingdom\n",
              "4    536365    84029E  ...      17850  United Kingdom\n",
              "\n",
              "[5 rows x 8 columns]"
            ]
          },
          "metadata": {
            "tags": []
          },
          "execution_count": 12
        }
      ]
    },
    {
      "cell_type": "code",
      "metadata": {
        "id": "TIS_iKL9Mp6d",
        "colab_type": "code",
        "outputId": "beb32c0b-efb1-47f3-ecc8-e8fcc7e77417",
        "colab": {
          "base_uri": "https://localhost:8080/",
          "height": 107
        }
      },
      "source": [
        "\n",
        "df.dropna(subset = ['CustomerID'], inplace=True)\n",
        "df.describe().transpose()\n"
      ],
      "execution_count": 0,
      "outputs": [
        {
          "output_type": "execute_result",
          "data": {
            "text/html": [
              "<div>\n",
              "<style scoped>\n",
              "    .dataframe tbody tr th:only-of-type {\n",
              "        vertical-align: middle;\n",
              "    }\n",
              "\n",
              "    .dataframe tbody tr th {\n",
              "        vertical-align: top;\n",
              "    }\n",
              "\n",
              "    .dataframe thead th {\n",
              "        text-align: right;\n",
              "    }\n",
              "</style>\n",
              "<table border=\"1\" class=\"dataframe\">\n",
              "  <thead>\n",
              "    <tr style=\"text-align: right;\">\n",
              "      <th></th>\n",
              "      <th>count</th>\n",
              "      <th>mean</th>\n",
              "      <th>std</th>\n",
              "      <th>min</th>\n",
              "      <th>25%</th>\n",
              "      <th>50%</th>\n",
              "      <th>75%</th>\n",
              "      <th>max</th>\n",
              "    </tr>\n",
              "  </thead>\n",
              "  <tbody>\n",
              "    <tr>\n",
              "      <th>Quantity</th>\n",
              "      <td>406829.0</td>\n",
              "      <td>12.061303</td>\n",
              "      <td>248.693370</td>\n",
              "      <td>-80995.0</td>\n",
              "      <td>2.00</td>\n",
              "      <td>5.00</td>\n",
              "      <td>12.00</td>\n",
              "      <td>80995.0</td>\n",
              "    </tr>\n",
              "    <tr>\n",
              "      <th>UnitPrice</th>\n",
              "      <td>406829.0</td>\n",
              "      <td>3.460471</td>\n",
              "      <td>69.315162</td>\n",
              "      <td>0.0</td>\n",
              "      <td>1.25</td>\n",
              "      <td>1.95</td>\n",
              "      <td>3.75</td>\n",
              "      <td>38970.0</td>\n",
              "    </tr>\n",
              "  </tbody>\n",
              "</table>\n",
              "</div>"
            ],
            "text/plain": [
              "              count       mean         std      min   25%   50%    75%      max\n",
              "Quantity   406829.0  12.061303  248.693370 -80995.0  2.00  5.00  12.00  80995.0\n",
              "UnitPrice  406829.0   3.460471   69.315162      0.0  1.25  1.95   3.75  38970.0"
            ]
          },
          "metadata": {
            "tags": []
          },
          "execution_count": 13
        }
      ]
    },
    {
      "cell_type": "code",
      "metadata": {
        "id": "NCjps8FaOxxq",
        "colab_type": "code",
        "outputId": "0ba36535-6da8-4e6f-e6b9-c4c21a19a279",
        "colab": {
          "base_uri": "https://localhost:8080/",
          "height": 33
        }
      },
      "source": [
        "\n",
        "n_orders = df.groupby(['CustomerID'])['InvoiceNo'].nunique()\n",
        "mult_orders_perc = np.sum(n_orders > 1) / df['CustomerID'].nunique()\n",
        "print(f'{100 * mult_orders_perc:.2f}% of customers ordered more than once.')"
      ],
      "execution_count": 0,
      "outputs": [
        {
          "output_type": "stream",
          "text": [
            "69.97% of customers ordered more than once.\n"
          ],
          "name": "stdout"
        }
      ]
    },
    {
      "cell_type": "code",
      "metadata": {
        "id": "qtnKXZHYPXtE",
        "colab_type": "code",
        "outputId": "763b1404-68a7-473e-aaa2-ab126324cc95",
        "colab": {
          "base_uri": "https://localhost:8080/",
          "height": 295
        }
      },
      "source": [
        "ax = sns.distplot(n_orders, kde=True, hist=True)\n",
        "ax.set(title='Distribution of number of orders per customer',\n",
        "       xlabel='# of orders', \n",
        "       ylabel='# of customers');\n"
      ],
      "execution_count": 0,
      "outputs": [
        {
          "output_type": "display_data",
          "data": {
            "image/png": "[encoded data removed]",
            "text/plain": [
              "<Figure size 432x288 with 1 Axes>"
            ]
          },
          "metadata": {
            "tags": []
          }
        }
      ]
    },
    {
      "cell_type": "code",
      "metadata": {
        "id": "aX9mAnA8OwJs",
        "colab_type": "code",
        "outputId": "af347dc0-cd5e-416f-a832-c9c7557d6bc2",
        "colab": {
          "base_uri": "https://localhost:8080/",
          "height": 251
        }
      },
      "source": [
        "df = df[['CustomerID', 'InvoiceNo', 'InvoiceDate']].drop_duplicates()\n",
        "print(df)"
      ],
      "execution_count": 0,
      "outputs": [
        {
          "output_type": "stream",
          "text": [
            "       CustomerID InvoiceNo         InvoiceDate\n",
            "0           17850    536365 2010-12-01 08:26:00\n",
            "7           17850    536366 2010-12-01 08:28:00\n",
            "9           13047    536367 2010-12-01 08:34:00\n",
            "21          13047    536368 2010-12-01 08:34:00\n",
            "25          13047    536369 2010-12-01 08:35:00\n",
            "...           ...       ...                 ...\n",
            "541865      13777    581583 2011-12-09 12:23:00\n",
            "541867      13777    581584 2011-12-09 12:25:00\n",
            "541869      15804    581585 2011-12-09 12:31:00\n",
            "541890      13113    581586 2011-12-09 12:49:00\n",
            "541894      12680    581587 2011-12-09 12:50:00\n",
            "\n",
            "[22221 rows x 3 columns]\n"
          ],
          "name": "stdout"
        }
      ]
    },
    {
      "cell_type": "code",
      "metadata": {
        "id": "zIllr8IhPxT0",
        "colab_type": "code",
        "colab": {}
      },
      "source": [
        "df['order_month'] = df['InvoiceDate'].dt.to_period('M')\n",
        "df['cohort'] = df.groupby('CustomerID')['InvoiceDate'] \\\n",
        "                 .transform('min') \\\n",
        "                 .dt.to_period('M') "
      ],
      "execution_count": 0,
      "outputs": []
    },
    {
      "cell_type": "code",
      "metadata": {
        "id": "IVdqyxHiS6aj",
        "colab_type": "code",
        "outputId": "8b1e9f82-0467-420f-9efe-df1f6aa9404a",
        "colab": {
          "base_uri": "https://localhost:8080/",
          "height": 196
        }
      },
      "source": [
        "df_cohort = df.groupby(['cohort', 'order_month']) \\\n",
        "              .agg(n_customers=('CustomerID', 'nunique')) \\\n",
        "              .reset_index(drop=False)\n",
        "df_cohort['period_number'] = (df_cohort.order_month - df_cohort.cohort).apply(attrgetter('n'))\n",
        "df_cohort.head()"
      ],
      "execution_count": 0,
      "outputs": [
        {
          "output_type": "execute_result",
          "data": {
            "text/html": [
              "<div>\n",
              "<style scoped>\n",
              "    .dataframe tbody tr th:only-of-type {\n",
              "        vertical-align: middle;\n",
              "    }\n",
              "\n",
              "    .dataframe tbody tr th {\n",
              "        vertical-align: top;\n",
              "    }\n",
              "\n",
              "    .dataframe thead th {\n",
              "        text-align: right;\n",
              "    }\n",
              "</style>\n",
              "<table border=\"1\" class=\"dataframe\">\n",
              "  <thead>\n",
              "    <tr style=\"text-align: right;\">\n",
              "      <th></th>\n",
              "      <th>cohort</th>\n",
              "      <th>order_month</th>\n",
              "      <th>n_customers</th>\n",
              "      <th>period_number</th>\n",
              "    </tr>\n",
              "  </thead>\n",
              "  <tbody>\n",
              "    <tr>\n",
              "      <th>0</th>\n",
              "      <td>2010-12</td>\n",
              "      <td>2010-12</td>\n",
              "      <td>948</td>\n",
              "      <td>0</td>\n",
              "    </tr>\n",
              "    <tr>\n",
              "      <th>1</th>\n",
              "      <td>2010-12</td>\n",
              "      <td>2011-01</td>\n",
              "      <td>362</td>\n",
              "      <td>1</td>\n",
              "    </tr>\n",
              "    <tr>\n",
              "      <th>2</th>\n",
              "      <td>2010-12</td>\n",
              "      <td>2011-02</td>\n",
              "      <td>317</td>\n",
              "      <td>2</td>\n",
              "    </tr>\n",
              "    <tr>\n",
              "      <th>3</th>\n",
              "      <td>2010-12</td>\n",
              "      <td>2011-03</td>\n",
              "      <td>367</td>\n",
              "      <td>3</td>\n",
              "    </tr>\n",
              "    <tr>\n",
              "      <th>4</th>\n",
              "      <td>2010-12</td>\n",
              "      <td>2011-04</td>\n",
              "      <td>341</td>\n",
              "      <td>4</td>\n",
              "    </tr>\n",
              "  </tbody>\n",
              "</table>\n",
              "</div>"
            ],
            "text/plain": [
              "    cohort order_month  n_customers  period_number\n",
              "0  2010-12     2010-12          948              0\n",
              "1  2010-12     2011-01          362              1\n",
              "2  2010-12     2011-02          317              2\n",
              "3  2010-12     2011-03          367              3\n",
              "4  2010-12     2011-04          341              4"
            ]
          },
          "metadata": {
            "tags": []
          },
          "execution_count": 21
        }
      ]
    },
    {
      "cell_type": "code",
      "metadata": {
        "id": "CffuC3DmTOBF",
        "colab_type": "code",
        "outputId": "cecd658d-5363-46a0-fc4e-4e9102d8acc7",
        "colab": {
          "base_uri": "https://localhost:8080/",
          "height": 485
        }
      },
      "source": [
        "cohort_pivot = df_cohort.pivot_table(index = 'cohort',\n",
        "                                     columns = 'period_number',\n",
        "                                     values = 'n_customers')\n",
        "cohort_pivot"
      ],
      "execution_count": 0,
      "outputs": [
        {
          "output_type": "execute_result",
          "data": {
            "text/html": [
              "<div>\n",
              "<style scoped>\n",
              "    .dataframe tbody tr th:only-of-type {\n",
              "        vertical-align: middle;\n",
              "    }\n",
              "\n",
              "    .dataframe tbody tr th {\n",
              "        vertical-align: top;\n",
              "    }\n",
              "\n",
              "    .dataframe thead th {\n",
              "        text-align: right;\n",
              "    }\n",
              "</style>\n",
              "<table border=\"1\" class=\"dataframe\">\n",
              "  <thead>\n",
              "    <tr style=\"text-align: right;\">\n",
              "      <th>period_number</th>\n",
              "      <th>0</th>\n",
              "      <th>1</th>\n",
              "      <th>2</th>\n",
              "      <th>3</th>\n",
              "      <th>4</th>\n",
              "      <th>5</th>\n",
              "      <th>6</th>\n",
              "      <th>7</th>\n",
              "      <th>8</th>\n",
              "      <th>9</th>\n",
              "      <th>10</th>\n",
              "      <th>11</th>\n",
              "      <th>12</th>\n",
              "    </tr>\n",
              "    <tr>\n",
              "      <th>cohort</th>\n",
              "      <th></th>\n",
              "      <th></th>\n",
              "      <th></th>\n",
              "      <th></th>\n",
              "      <th></th>\n",
              "      <th></th>\n",
              "      <th></th>\n",
              "      <th></th>\n",
              "      <th></th>\n",
              "      <th></th>\n",
              "      <th></th>\n",
              "      <th></th>\n",
              "      <th></th>\n",
              "    </tr>\n",
              "  </thead>\n",
              "  <tbody>\n",
              "    <tr>\n",
              "      <th>2010-12</th>\n",
              "      <td>948.0</td>\n",
              "      <td>362.0</td>\n",
              "      <td>317.0</td>\n",
              "      <td>367.0</td>\n",
              "      <td>341.0</td>\n",
              "      <td>376.0</td>\n",
              "      <td>360.0</td>\n",
              "      <td>336.0</td>\n",
              "      <td>336.0</td>\n",
              "      <td>374.0</td>\n",
              "      <td>354.0</td>\n",
              "      <td>474.0</td>\n",
              "      <td>260.0</td>\n",
              "    </tr>\n",
              "    <tr>\n",
              "      <th>2011-01</th>\n",
              "      <td>421.0</td>\n",
              "      <td>101.0</td>\n",
              "      <td>119.0</td>\n",
              "      <td>102.0</td>\n",
              "      <td>138.0</td>\n",
              "      <td>126.0</td>\n",
              "      <td>110.0</td>\n",
              "      <td>108.0</td>\n",
              "      <td>131.0</td>\n",
              "      <td>146.0</td>\n",
              "      <td>155.0</td>\n",
              "      <td>63.0</td>\n",
              "      <td>NaN</td>\n",
              "    </tr>\n",
              "    <tr>\n",
              "      <th>2011-02</th>\n",
              "      <td>380.0</td>\n",
              "      <td>94.0</td>\n",
              "      <td>73.0</td>\n",
              "      <td>106.0</td>\n",
              "      <td>102.0</td>\n",
              "      <td>94.0</td>\n",
              "      <td>97.0</td>\n",
              "      <td>107.0</td>\n",
              "      <td>98.0</td>\n",
              "      <td>119.0</td>\n",
              "      <td>35.0</td>\n",
              "      <td>NaN</td>\n",
              "      <td>NaN</td>\n",
              "    </tr>\n",
              "    <tr>\n",
              "      <th>2011-03</th>\n",
              "      <td>440.0</td>\n",
              "      <td>84.0</td>\n",
              "      <td>112.0</td>\n",
              "      <td>96.0</td>\n",
              "      <td>102.0</td>\n",
              "      <td>78.0</td>\n",
              "      <td>116.0</td>\n",
              "      <td>105.0</td>\n",
              "      <td>127.0</td>\n",
              "      <td>39.0</td>\n",
              "      <td>NaN</td>\n",
              "      <td>NaN</td>\n",
              "      <td>NaN</td>\n",
              "    </tr>\n",
              "    <tr>\n",
              "      <th>2011-04</th>\n",
              "      <td>299.0</td>\n",
              "      <td>68.0</td>\n",
              "      <td>66.0</td>\n",
              "      <td>63.0</td>\n",
              "      <td>62.0</td>\n",
              "      <td>71.0</td>\n",
              "      <td>69.0</td>\n",
              "      <td>78.0</td>\n",
              "      <td>25.0</td>\n",
              "      <td>NaN</td>\n",
              "      <td>NaN</td>\n",
              "      <td>NaN</td>\n",
              "      <td>NaN</td>\n",
              "    </tr>\n",
              "    <tr>\n",
              "      <th>2011-05</th>\n",
              "      <td>279.0</td>\n",
              "      <td>66.0</td>\n",
              "      <td>48.0</td>\n",
              "      <td>48.0</td>\n",
              "      <td>60.0</td>\n",
              "      <td>68.0</td>\n",
              "      <td>74.0</td>\n",
              "      <td>29.0</td>\n",
              "      <td>NaN</td>\n",
              "      <td>NaN</td>\n",
              "      <td>NaN</td>\n",
              "      <td>NaN</td>\n",
              "      <td>NaN</td>\n",
              "    </tr>\n",
              "    <tr>\n",
              "      <th>2011-06</th>\n",
              "      <td>235.0</td>\n",
              "      <td>49.0</td>\n",
              "      <td>44.0</td>\n",
              "      <td>64.0</td>\n",
              "      <td>58.0</td>\n",
              "      <td>79.0</td>\n",
              "      <td>24.0</td>\n",
              "      <td>NaN</td>\n",
              "      <td>NaN</td>\n",
              "      <td>NaN</td>\n",
              "      <td>NaN</td>\n",
              "      <td>NaN</td>\n",
              "      <td>NaN</td>\n",
              "    </tr>\n",
              "    <tr>\n",
              "      <th>2011-07</th>\n",
              "      <td>191.0</td>\n",
              "      <td>40.0</td>\n",
              "      <td>39.0</td>\n",
              "      <td>44.0</td>\n",
              "      <td>52.0</td>\n",
              "      <td>22.0</td>\n",
              "      <td>NaN</td>\n",
              "      <td>NaN</td>\n",
              "      <td>NaN</td>\n",
              "      <td>NaN</td>\n",
              "      <td>NaN</td>\n",
              "      <td>NaN</td>\n",
              "      <td>NaN</td>\n",
              "    </tr>\n",
              "    <tr>\n",
              "      <th>2011-08</th>\n",
              "      <td>167.0</td>\n",
              "      <td>42.0</td>\n",
              "      <td>42.0</td>\n",
              "      <td>42.0</td>\n",
              "      <td>23.0</td>\n",
              "      <td>NaN</td>\n",
              "      <td>NaN</td>\n",
              "      <td>NaN</td>\n",
              "      <td>NaN</td>\n",
              "      <td>NaN</td>\n",
              "      <td>NaN</td>\n",
              "      <td>NaN</td>\n",
              "      <td>NaN</td>\n",
              "    </tr>\n",
              "    <tr>\n",
              "      <th>2011-09</th>\n",
              "      <td>298.0</td>\n",
              "      <td>89.0</td>\n",
              "      <td>97.0</td>\n",
              "      <td>36.0</td>\n",
              "      <td>NaN</td>\n",
              "      <td>NaN</td>\n",
              "      <td>NaN</td>\n",
              "      <td>NaN</td>\n",
              "      <td>NaN</td>\n",
              "      <td>NaN</td>\n",
              "      <td>NaN</td>\n",
              "      <td>NaN</td>\n",
              "      <td>NaN</td>\n",
              "    </tr>\n",
              "    <tr>\n",
              "      <th>2011-10</th>\n",
              "      <td>352.0</td>\n",
              "      <td>93.0</td>\n",
              "      <td>46.0</td>\n",
              "      <td>NaN</td>\n",
              "      <td>NaN</td>\n",
              "      <td>NaN</td>\n",
              "      <td>NaN</td>\n",
              "      <td>NaN</td>\n",
              "      <td>NaN</td>\n",
              "      <td>NaN</td>\n",
              "      <td>NaN</td>\n",
              "      <td>NaN</td>\n",
              "      <td>NaN</td>\n",
              "    </tr>\n",
              "    <tr>\n",
              "      <th>2011-11</th>\n",
              "      <td>321.0</td>\n",
              "      <td>43.0</td>\n",
              "      <td>NaN</td>\n",
              "      <td>NaN</td>\n",
              "      <td>NaN</td>\n",
              "      <td>NaN</td>\n",
              "      <td>NaN</td>\n",
              "      <td>NaN</td>\n",
              "      <td>NaN</td>\n",
              "      <td>NaN</td>\n",
              "      <td>NaN</td>\n",
              "      <td>NaN</td>\n",
              "      <td>NaN</td>\n",
              "    </tr>\n",
              "    <tr>\n",
              "      <th>2011-12</th>\n",
              "      <td>41.0</td>\n",
              "      <td>NaN</td>\n",
              "      <td>NaN</td>\n",
              "      <td>NaN</td>\n",
              "      <td>NaN</td>\n",
              "      <td>NaN</td>\n",
              "      <td>NaN</td>\n",
              "      <td>NaN</td>\n",
              "      <td>NaN</td>\n",
              "      <td>NaN</td>\n",
              "      <td>NaN</td>\n",
              "      <td>NaN</td>\n",
              "      <td>NaN</td>\n",
              "    </tr>\n",
              "  </tbody>\n",
              "</table>\n",
              "</div>"
            ],
            "text/plain": [
              "period_number     0      1      2      3   ...     9      10     11     12\n",
              "cohort                                     ...                            \n",
              "2010-12        948.0  362.0  317.0  367.0  ...  374.0  354.0  474.0  260.0\n",
              "2011-01        421.0  101.0  119.0  102.0  ...  146.0  155.0   63.0    NaN\n",
              "2011-02        380.0   94.0   73.0  106.0  ...  119.0   35.0    NaN    NaN\n",
              "2011-03        440.0   84.0  112.0   96.0  ...   39.0    NaN    NaN    NaN\n",
              "2011-04        299.0   68.0   66.0   63.0  ...    NaN    NaN    NaN    NaN\n",
              "2011-05        279.0   66.0   48.0   48.0  ...    NaN    NaN    NaN    NaN\n",
              "2011-06        235.0   49.0   44.0   64.0  ...    NaN    NaN    NaN    NaN\n",
              "2011-07        191.0   40.0   39.0   44.0  ...    NaN    NaN    NaN    NaN\n",
              "2011-08        167.0   42.0   42.0   42.0  ...    NaN    NaN    NaN    NaN\n",
              "2011-09        298.0   89.0   97.0   36.0  ...    NaN    NaN    NaN    NaN\n",
              "2011-10        352.0   93.0   46.0    NaN  ...    NaN    NaN    NaN    NaN\n",
              "2011-11        321.0   43.0    NaN    NaN  ...    NaN    NaN    NaN    NaN\n",
              "2011-12         41.0    NaN    NaN    NaN  ...    NaN    NaN    NaN    NaN\n",
              "\n",
              "[13 rows x 13 columns]"
            ]
          },
          "metadata": {
            "tags": []
          },
          "execution_count": 23
        }
      ]
    },
    {
      "cell_type": "code",
      "metadata": {
        "id": "KWKV3A_ATYml",
        "colab_type": "code",
        "colab": {}
      },
      "source": [
        "cohort_size = cohort_pivot.iloc[:,0]\n",
        "retention_matrix = cohort_pivot.divide(cohort_size, axis = 0)"
      ],
      "execution_count": 0,
      "outputs": []
    },
    {
      "cell_type": "code",
      "metadata": {
        "id": "dsE9e6jFTePE",
        "colab_type": "code",
        "outputId": "2dc432f1-915e-4871-faa2-7ae02e65c9b7",
        "colab": {
          "base_uri": "https://localhost:8080/",
          "height": 605
        }
      },
      "source": [
        "with sns.axes_style(\"white\"):\n",
        "    fig, ax = plt.subplots(1, 2, figsize=(12, 8), sharey=True, gridspec_kw={'width_ratios': [1, 11]})\n",
        "    \n",
        "    # retention matrix\n",
        "    sns.heatmap(retention_matrix, \n",
        "                mask=retention_matrix.isnull(), \n",
        "                annot=True, \n",
        "                fmt='.0%', \n",
        "                cmap='RdYlGn', \n",
        "                ax=ax[1])\n",
        "    ax[1].set_title('Monthly Cohorts: User Retention', fontsize=16)\n",
        "    ax[1].set(xlabel='# of periods',\n",
        "              ylabel='')\n",
        "\n",
        "    # cohort size\n",
        "    cohort_size_df = pd.DataFrame(cohort_size).rename(columns={0: 'cohort_size'})\n",
        "    white_cmap = mcolors.ListedColormap(['white'])\n",
        "    sns.heatmap(cohort_size_df, \n",
        "                annot=True, \n",
        "                cbar=False, \n",
        "                fmt='g', \n",
        "                cmap=white_cmap, \n",
        "                ax=ax[0])\n",
        "\n",
        "    fig.tight_layout()"
      ],
      "execution_count": 0,
      "outputs": [
        {
          "output_type": "display_data",
          "data": {
            "image/png": "[encoded data removed]",
            "text/plain": [
              "<Figure size 864x576 with 3 Axes>"
            ]
          },
          "metadata": {
            "tags": []
          }
        }
      ]
    },
    {
      "cell_type": "markdown",
      "metadata": {
        "id": "O-B7wURRbACg",
        "colab_type": "text"
      },
      "source": [
        "From the image we could infer that there is a sharp drop-off in the second month  already, on average around 80% of customers do not make any purchase in the second month.In cohort (2010–12) seems to be an exception and performs surprisingly well as compared to the other ones. A year after the first purchase, there is a 50% retention. This might be a cohort of dedicated customers, who first joined the platform based on some already-existing connections with the retailer.\n",
        "Throughout the matrix, we can see fluctuations in retention over time. This might be caused by the characteristics of the business, where clients do periodic purchases, followed by periods of inactivity."
      ]
    }
  ]
}